{
 "cells": [
  {
   "cell_type": "code",
   "execution_count": null,
   "metadata": {},
   "outputs": [],
   "source": [
    "import os\n",
    "import numpy as np\n",
    "from sklearn.metrics import precision_score, recall_score, f1_score, accuracy_score\n",
    "import operator\n",
    "import cv2\n",
    "from keras.models import load_model"
   ]
  },
  {
   "cell_type": "code",
   "execution_count": null,
   "metadata": {},
   "outputs": [],
   "source": [
    "def calculate_metrics(true_labels, predicted_labels):\n",
    "    precision = precision_score(true_labels, predicted_labels, average='weighted')\n",
    "    recall = recall_score(true_labels, predicted_labels, average='weighted')\n",
    "    f1 = f1_score(true_labels, predicted_labels, average='weighted')\n",
    "    accuracy = accuracy_score(true_labels, predicted_labels)\n",
    "    return precision, recall, f1, accuracy"
   ]
  },
  {
   "cell_type": "code",
   "execution_count": null,
   "metadata": {},
   "outputs": [],
   "source": [
    "# Replace these paths with your actual paths\n",
    "model = load_model('weights.hdf5')\n",
    "test_dataset_path = \"./final_dataset/test\"\n",
    "\n",
    "# Iterate through each image in the test dataset\n",
    "true_labels = []\n",
    "predicted_labels = []\n",
    "\n",
    "for label_folder in os.listdir(test_dataset_path):\n",
    "    label_path = os.path.join(test_dataset_path, label_folder)\n",
    "    \n",
    "    if os.path.isdir(label_path):\n",
    "        for image_file in os.listdir(label_path):\n",
    "            image_path = os.path.join(label_path, image_file)\n",
    "\n",
    "            # Load and preprocess the image \n",
    "            image = cv2.imread(image_path)\n",
    "            gray = cv2.cvtColor(image, cv2.COLOR_BGR2GRAY)\n",
    "            resized_roi = cv2.resize(gray, (64, 64))\n",
    "            channeled_mask = cv2.merge((resized_roi,resized_roi,resized_roi))\n",
    "            reshaped_mask = channeled_mask.reshape(1, 64, 64, 3)\n",
    "\n",
    "            # Make predictions using your model\n",
    "            result = model.predict(reshaped_mask) \n",
    "            \n",
    "            # Then we create a dictonary to map probability position/indexing with label\n",
    "            prediction_dictionary ={'A': result[0][0], \n",
    "                        'B': result[0][1], \n",
    "                        'C': result[0][2],\n",
    "                        'SPACE': result[0][4],\n",
    "                        'DELETE': result[0][3],\n",
    "                        'D': result[0][5]\n",
    "                        }    \n",
    "                       \n",
    "            prediction = sorted(prediction_dictionary.items(), key=operator.itemgetter(1), reverse=True)  \n",
    "\n",
    "            # Next \"prediction[0][0]\" will pick up element at first position of variable \"prediction\"\n",
    "            top_label=prediction[0][0]  \n",
    "\n",
    "            # Append true and predicted labels for later calculation\n",
    "            true_labels.append(label_folder)\n",
    "            predicted_labels.append(top_label)\n",
    "\n",
    "# Convert the lists to numpy arrays\n",
    "true_labels = np.array(true_labels)\n",
    "predicted_labels = np.array(predicted_labels)\n",
    "\n",
    "# Calculate precision, recall, and F1 score\n",
    "precision, recall, f1, accuracy = calculate_metrics(true_labels, predicted_labels)"
   ]
  },
  {
   "cell_type": "code",
   "execution_count": null,
   "metadata": {},
   "outputs": [],
   "source": [
    "# Print the results\n",
    "print(\"Precision:\", precision)\n",
    "print(\"Recall:\", recall)\n",
    "print(\"F1 Score:\", f1)\n",
    "print(\"Test accuracy:\", accuracy)"
   ]
  }
 ],
 "metadata": {
  "language_info": {
   "name": "python"
  }
 },
 "nbformat": 4,
 "nbformat_minor": 2
}
