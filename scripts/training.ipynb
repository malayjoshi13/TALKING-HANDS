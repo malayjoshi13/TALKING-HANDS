{
  "cells": [
    {
      "cell_type": "markdown",
      "metadata": {
        "id": "RFjFR1vIvX4d"
      },
      "source": [
        "**STEP 1.1) MOUNTING GOOGLE DRIVE**\n"
      ]
    },
    {
      "cell_type": "code",
      "execution_count": 1,
      "metadata": {
        "colab": {
          "base_uri": "https://localhost:8080/"
        },
        "id": "s_cuMYIhH0zo",
        "outputId": "9f407fa1-d39d-4359-c6df-eb67c39ce2d5"
      },
      "outputs": [
        {
          "name": "stdout",
          "output_type": "stream",
          "text": [
            "Mounted at /content/drive\n"
          ]
        }
      ],
      "source": [
        "from google.colab import drive\n",
        "drive.mount('/content/drive')"
      ]
    },
    {
      "cell_type": "markdown",
      "metadata": {
        "id": "LgPS7BFPcffu"
      },
      "source": [
        "**STEP 1.2) IMPORTING LIBRARIES**"
      ]
    },
    {
      "cell_type": "code",
      "execution_count": 2,
      "metadata": {
        "id": "FzA6mb78FgLr"
      },
      "outputs": [],
      "source": [
        "import keras\n",
        "from keras.layers import Input, Dense, Flatten, Dropout, GlobalAveragePooling2D\n",
        "from keras.models import Model\n",
        "from keras.applications import VGG16\n",
        "from keras.preprocessing.image import ImageDataGenerator\n",
        "import numpy as np\n",
        "from keras.callbacks import ModelCheckpoint\n",
        "from glob import glob\n",
        "import matplotlib.pyplot as plt\n",
        "from keras.utils import plot_model\n",
        "import os\n",
        "from pathlib import Path"
      ]
    },
    {
      "cell_type": "markdown",
      "metadata": {
        "id": "r3qGXXeQntiQ"
      },
      "source": [
        "**STEP 1.3) SETTING UP WORKING PLATFORM**"
      ]
    },
    {
      "cell_type": "code",
      "execution_count": null,
      "metadata": {
        "id": "G29wiuPznsks"
      },
      "outputs": [],
      "source": [
        "# Skip this code block if you have already cloned the github repo in your GDrive\n",
        "\n",
        "\n",
        "# Change working directory to your Google Drive\n",
        "os.chdir('/content/drive/MyDrive/')\n",
        "\n",
        "# Cloning the repository in your Google Drive.\n",
        "# If you are doing inference right after doing training then no need to clone as during training process, this GitHub repo is cloned.\n",
        "!git clone https://github.com/malayjoshi13/TalkingHand.git"
      ]
    },
    {
      "cell_type": "code",
      "execution_count": null,
      "metadata": {
        "id": "898RkgwrnzHm"
      },
      "outputs": [],
      "source": [
        "# Change working directory to your cloned repository\n",
        "os.chdir('/content/drive/MyDrive/TalkingHand/')"
      ]
    },
    {
      "cell_type": "markdown",
      "metadata": {
        "id": "Z3Fe_EJbpPtg"
      },
      "source": [
        "1. Before moving ahead, go to your Google Drive. There you'll see folder named \"TalkingHand\" (which is cloned copy of the GitHub repo) we are working with. <br>\n",
        "\n",
        "2. Place the custom dataset folder (located in the local system) by the name \"dataset_final\" in this folder of \"TalkingHand\" at your Google Drive.<br>\n",
        "\n",
        "3. Now lets's move to training process below."
      ]
    },
    {
      "cell_type": "markdown",
      "metadata": {
        "id": "hls_VDF8xBwb"
      },
      "source": [
        "**STEP 1.3) SCRIPTING THE FLOW FOR TRAINING AND VALIDATION DATASET IN BATCHED FORMAT**"
      ]
    },
    {
      "cell_type": "code",
      "execution_count": null,
      "metadata": {
        "id": "ubzJxZ0eTkYG"
      },
      "outputs": [],
      "source": [
        "# Here we apply data augmentation on training and testing dataset by distorting them a little bit. This improve accuracy as model is able to see different variations thus better ability to generalise\n",
        "# what it has memorized rather than just mugging up.\n",
        "training_datagen = ImageDataGenerator(rescale = 1./255,\n",
        "                                   shear_range = 0.2,\n",
        "                                   zoom_range = 0.2,\n",
        "                                   horizontal_flip = True)\n",
        "\n",
        "validation_datagen = ImageDataGenerator(rescale = 1./255)\n",
        "\n",
        "# Next we initiaite data generators which will divide whole training and validation datasets in smaller batches of 8 images in each. This is helpful as it avoids all images to get loaded on RAM at once.\n",
        "batch_size = 8\n",
        "\n",
        "training_batched_dataset = training_datagen.flow_from_directory('final_dataset/train',\n",
        "                                                 target_size = (64, 64),\n",
        "                                                 batch_size = batch_size,\n",
        "                                                 class_mode = 'categorical',\n",
        "                                                 shuffle = True)\n",
        "\n",
        "validation_batched_dataset = validation_datagen.flow_from_directory('final_dataset/validation',\n",
        "                                            target_size = (64, 64),\n",
        "                                            batch_size = batch_size,\n",
        "                                            class_mode = 'categorical',\n",
        "                                            shuffle = True)\n",
        "\n",
        "label_mapping = (training_datagen.class_indices)\n",
        "print(label_mapping)"
      ]
    },
    {
      "cell_type": "markdown",
      "metadata": {
        "id": "KD0R1h2zw0Je"
      },
      "source": [
        "**STEP 1.4) CREATING ARCHITECTURE OF MODEL TO BE TRAINED**"
      ]
    },
    {
      "cell_type": "code",
      "execution_count": null,
      "metadata": {
        "id": "qr0MmNtLS5Xw"
      },
      "outputs": [],
      "source": [
        "# Now we call VGG16 network. Then we set size of images which input layer of VGG16 accepts as the size of our training images. In this way prepare VGG16 to accept our training images as input.\n",
        "# Next we set weight of VGG16 model as weight which was obtained by training this network on Imagenet dataset. We did this to avoid situation where weights would have initialised by some random value and then\n",
        "# it would take long time for model to fit itself on our custom made dataset. Imagenet weights are good base to start training the network.\n",
        "# WE also set “include_top” argument to False. By doing this the fully-connected output layers of the model which are used to make predictions are not loaded, thus allowing a new output layer\n",
        "# to be added and trained on our custom made dataset.\n",
        "\n",
        "# To study more about tranfer learning and fine tuning please refer: https://machinelearningmastery.com/how-to-use-transfer-learning-when-developing-convolutional-neural-network-models/\n",
        "base = VGG16(input_shape=[64, 64] + [3], weights='imagenet', include_top=False)\n",
        "\n",
        "# Now we fine-tune VGG16 architecture by training the all the layers of loaded VGG16 layers. We didn't went with just using memory stored in these layers rather we ask them to train again because\n",
        "# our custom model is very different from Imagenet dataset, thus asking layers of loaded VGG16 will not to anything good during prediction time.\n",
        "for layer in base.layers:\n",
        "  layer.trainable = True\n",
        "\n",
        "# It is used to get number of classes/labels in our dataset.\n",
        "folders = glob('final_dataset/train/*')\n",
        "\n",
        "# We added more layers above the loaded VGG16 network to increase capacity of overall network to understand and remember features of training images.\n",
        "x = base.output\n",
        "x = GlobalAveragePooling2D()(x)\n",
        "x=Dense(1024,activation='relu')(x)\n",
        "x = Dropout(0.5)(x)\n",
        "x=Dense(512,activation='relu')(x)\n",
        "prediction = Dense(len(folders), activation='softmax')(x)\n",
        "\n",
        "# Then we create a model object, i.e. define the entrance and exit points of the complete model which is about to be trained. This complete model includes VGG16 + additional layers added on top of VGG16\n",
        "model = Model(inputs=base.input, outputs=prediction)\n",
        "\n",
        "# View the structure of the model.\n",
        "# Firstly by means of:\n",
        "model.summary()\n",
        "# & secondly by means of:\n",
        "plot_model(model, to_file='model_structure.png', show_shapes=True)"
      ]
    },
    {
      "cell_type": "markdown",
      "metadata": {
        "id": "C0M51XTxxS62"
      },
      "source": [
        "**STEP 1.5) COMPILING THE MODEL**"
      ]
    },
    {
      "cell_type": "code",
      "execution_count": null,
      "metadata": {
        "id": "VMOdFUI-FbKM"
      },
      "outputs": [],
      "source": [
        "# Then we compile the model, i.e. set the parameters that keep in check how training process and backpropagation is going on\n",
        "model.compile(\n",
        "  loss='categorical_crossentropy',\n",
        "  optimizer=keras.optimizers.Adam(learning_rate=0.0001),\n",
        "  metrics=['accuracy']\n",
        ")"
      ]
    },
    {
      "cell_type": "markdown",
      "metadata": {
        "id": "3YejHdAXxXZG"
      },
      "source": [
        "**STEP 1.6) STARTING TRAINING PROCESS**"
      ]
    },
    {
      "cell_type": "code",
      "execution_count": null,
      "metadata": {
        "id": "D8kW4h01pzcL"
      },
      "outputs": [],
      "source": [
        "Path(\"model_weights\").mkdir(parents=True, exist_ok=True)\n",
        "\n",
        "\n",
        "# Now we kick start training process by setting few parameters like:\n",
        "# \"training_batched_dataset\":- this is the path of batched training dataset coming straight from the step 1.3.\n",
        "# \"validation_data\":- this is the path of batched validation dataset coming straight from the step 1.3.\n",
        "# \"epochs\":- these are number of iterations/rounds for which our model will observe the whole training data. After each epoch, model on basis of its\n",
        "#            observations made during that epoch, will update its weights by doing backpropagation\n",
        "# \"steps_per_epoch\":- so these are number of steps or you say parts in which during each epoch model will see the whole dataset. So let us assume if total length of training dataset is 100 and we decide\n",
        "#                     that batch_size will be \"5\", then for each epoch, model will see the whole dataset of 100 images, in 20 parts/steps (=100/5 = steps_per_epoch = (training_batched_dataset.samples)//batch_size)\n",
        "#                     such that in each of the 20 times/steps it will see only 5 (= batch size) images out of total 100 images.\n",
        "# \"validation_steps\":- same as above but for validation phase\n",
        "# \"use_multiprocessing\" and \"workers\":- it will create batches of dataset by using CPU while in parallel GPU will do training over those batches.\n",
        "#                                       Thus it will enable both CPU and GPU to keep working parallely.\n",
        "# \"callbacks\":- using this parameter we utilised \"ModelCheckpoint\" functionality of Keras which enables to keep saving the weights (you can also save whole model)after each epoch based on certain\n",
        "#               conditions. Like we used condition that save the whole model+weights+the compiled parameters after each epoch if and if \"val_accuracy\" has improvised comparitive to\n",
        "#               validation accuracy of previous epoch.\n",
        "\n",
        "# After setting all these parameters we start the training process....wohooooooo!!\n",
        "r = model.fit(\n",
        "  training_batched_dataset,\n",
        "  validation_data=validation_batched_dataset,\n",
        "  epochs=20,\n",
        "  steps_per_epoch=(training_batched_dataset.samples)//batch_size,\n",
        "  validation_steps=(validation_batched_dataset.samples)//batch_size,\n",
        "  use_multiprocessing=True,\n",
        "  workers=1,\n",
        "  callbacks=[ModelCheckpoint(\"model_weights/weights-{epoch:02d}-{val_accuracy:.4f}.hdf5\", save_weights_only=False, monitor='val_accuracy', verbose=1, save_best_only=True, mode='max')]\n",
        ")"
      ]
    },
    {
      "cell_type": "markdown",
      "metadata": {
        "id": "jzGBsd8yxdQv"
      },
      "source": [
        "**STEP 1.7) PLOTTING LOSS AND ACCURACIES CURVES**"
      ]
    },
    {
      "cell_type": "code",
      "execution_count": null,
      "metadata": {
        "id": "UISdYrCcU9oL"
      },
      "outputs": [],
      "source": [
        "# Then we plot loss curves\n",
        "plt.plot(r.history['loss'], label='train loss')\n",
        "plt.plot(r.history['val_loss'], label='val loss')\n",
        "plt.legend()\n",
        "plt.show()\n",
        "plt.savefig('LossVal_loss')\n",
        "\n",
        "# and accuracies curves\n",
        "plt.plot(r.history['accuracy'], label='train acc')\n",
        "plt.plot(r.history['val_accuracy'], label='val acc')\n",
        "plt.legend()\n",
        "plt.show()\n",
        "plt.savefig('AccVal_acc')"
      ]
    }
  ],
  "metadata": {
    "accelerator": "GPU",
    "colab": {
      "provenance": []
    },
    "kernelspec": {
      "display_name": "Python 3",
      "name": "python3"
    }
  },
  "nbformat": 4,
  "nbformat_minor": 0
}
